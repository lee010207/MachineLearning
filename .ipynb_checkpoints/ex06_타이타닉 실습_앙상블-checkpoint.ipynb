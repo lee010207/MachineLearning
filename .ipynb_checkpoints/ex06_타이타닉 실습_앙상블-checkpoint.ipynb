{
 "cells": [
  {
   "cell_type": "code",
   "execution_count": 1,
   "id": "819318af",
   "metadata": {},
   "outputs": [],
   "source": [
    "# 전처리된 파일 불러오기\n",
    "import pandas as pd\n",
    "import numpy as np\n",
    "import matplotlib as plt"
   ]
  },
  {
   "cell_type": "code",
   "execution_count": 2,
   "id": "d5d97a66",
   "metadata": {},
   "outputs": [],
   "source": [
    "X_train = pd.read_csv(\"X_train.csv\")\n",
    "y_train = pd.read_csv(\"y_train.csv\")\n",
    "X_test = pd.read_csv(\"X_test.csv\")"
   ]
  },
  {
   "cell_type": "code",
   "execution_count": 3,
   "id": "0a404aa0",
   "metadata": {},
   "outputs": [
    {
     "data": {
      "text/plain": [
       "((891, 22), (891, 1), (418, 22))"
      ]
     },
     "execution_count": 3,
     "metadata": {},
     "output_type": "execute_result"
    }
   ],
   "source": [
    "X_train.shape, y_train.shape, X_test.shape"
   ]
  },
  {
   "cell_type": "markdown",
   "id": "d2ba677f",
   "metadata": {},
   "source": [
    "### 앙상블  모델 사용하기\n",
    " - 머신러닝에서 성능이 좋은 모델\n",
    " - 여러개의 DecisionTree를 사용하는 모델"
   ]
  },
  {
   "cell_type": "markdown",
   "id": "cfd563d7",
   "metadata": {},
   "source": [
    "#### (1) RandomForest 모델 사용"
   ]
  },
  {
   "cell_type": "code",
   "execution_count": 4,
   "id": "78cfe52b",
   "metadata": {},
   "outputs": [],
   "source": [
    "from sklearn.ensemble import RandomForestClassifier"
   ]
  },
  {
   "cell_type": "code",
   "execution_count": 5,
   "id": "e3e6ea60",
   "metadata": {},
   "outputs": [],
   "source": [
    "# 모델 생성\n",
    "forest_model = RandomForestClassifier()"
   ]
  },
  {
   "cell_type": "markdown",
   "id": "0a8053e3",
   "metadata": {},
   "source": [
    "#### (2) 학습"
   ]
  },
  {
   "cell_type": "code",
   "execution_count": 6,
   "id": "c1090556",
   "metadata": {},
   "outputs": [],
   "source": [
    "import warnings\n",
    "warnings.filterwarnings('ignore')"
   ]
  },
  {
   "cell_type": "code",
   "execution_count": 7,
   "id": "a1fde007",
   "metadata": {},
   "outputs": [
    {
     "data": {
      "text/html": [
       "<style>#sk-container-id-1 {color: black;background-color: white;}#sk-container-id-1 pre{padding: 0;}#sk-container-id-1 div.sk-toggleable {background-color: white;}#sk-container-id-1 label.sk-toggleable__label {cursor: pointer;display: block;width: 100%;margin-bottom: 0;padding: 0.3em;box-sizing: border-box;text-align: center;}#sk-container-id-1 label.sk-toggleable__label-arrow:before {content: \"▸\";float: left;margin-right: 0.25em;color: #696969;}#sk-container-id-1 label.sk-toggleable__label-arrow:hover:before {color: black;}#sk-container-id-1 div.sk-estimator:hover label.sk-toggleable__label-arrow:before {color: black;}#sk-container-id-1 div.sk-toggleable__content {max-height: 0;max-width: 0;overflow: hidden;text-align: left;background-color: #f0f8ff;}#sk-container-id-1 div.sk-toggleable__content pre {margin: 0.2em;color: black;border-radius: 0.25em;background-color: #f0f8ff;}#sk-container-id-1 input.sk-toggleable__control:checked~div.sk-toggleable__content {max-height: 200px;max-width: 100%;overflow: auto;}#sk-container-id-1 input.sk-toggleable__control:checked~label.sk-toggleable__label-arrow:before {content: \"▾\";}#sk-container-id-1 div.sk-estimator input.sk-toggleable__control:checked~label.sk-toggleable__label {background-color: #d4ebff;}#sk-container-id-1 div.sk-label input.sk-toggleable__control:checked~label.sk-toggleable__label {background-color: #d4ebff;}#sk-container-id-1 input.sk-hidden--visually {border: 0;clip: rect(1px 1px 1px 1px);clip: rect(1px, 1px, 1px, 1px);height: 1px;margin: -1px;overflow: hidden;padding: 0;position: absolute;width: 1px;}#sk-container-id-1 div.sk-estimator {font-family: monospace;background-color: #f0f8ff;border: 1px dotted black;border-radius: 0.25em;box-sizing: border-box;margin-bottom: 0.5em;}#sk-container-id-1 div.sk-estimator:hover {background-color: #d4ebff;}#sk-container-id-1 div.sk-parallel-item::after {content: \"\";width: 100%;border-bottom: 1px solid gray;flex-grow: 1;}#sk-container-id-1 div.sk-label:hover label.sk-toggleable__label {background-color: #d4ebff;}#sk-container-id-1 div.sk-serial::before {content: \"\";position: absolute;border-left: 1px solid gray;box-sizing: border-box;top: 0;bottom: 0;left: 50%;z-index: 0;}#sk-container-id-1 div.sk-serial {display: flex;flex-direction: column;align-items: center;background-color: white;padding-right: 0.2em;padding-left: 0.2em;position: relative;}#sk-container-id-1 div.sk-item {position: relative;z-index: 1;}#sk-container-id-1 div.sk-parallel {display: flex;align-items: stretch;justify-content: center;background-color: white;position: relative;}#sk-container-id-1 div.sk-item::before, #sk-container-id-1 div.sk-parallel-item::before {content: \"\";position: absolute;border-left: 1px solid gray;box-sizing: border-box;top: 0;bottom: 0;left: 50%;z-index: -1;}#sk-container-id-1 div.sk-parallel-item {display: flex;flex-direction: column;z-index: 1;position: relative;background-color: white;}#sk-container-id-1 div.sk-parallel-item:first-child::after {align-self: flex-end;width: 50%;}#sk-container-id-1 div.sk-parallel-item:last-child::after {align-self: flex-start;width: 50%;}#sk-container-id-1 div.sk-parallel-item:only-child::after {width: 0;}#sk-container-id-1 div.sk-dashed-wrapped {border: 1px dashed gray;margin: 0 0.4em 0.5em 0.4em;box-sizing: border-box;padding-bottom: 0.4em;background-color: white;}#sk-container-id-1 div.sk-label label {font-family: monospace;font-weight: bold;display: inline-block;line-height: 1.2em;}#sk-container-id-1 div.sk-label-container {text-align: center;}#sk-container-id-1 div.sk-container {/* jupyter's `normalize.less` sets `[hidden] { display: none; }` but bootstrap.min.css set `[hidden] { display: none !important; }` so we also need the `!important` here to be able to override the default hidden behavior on the sphinx rendered scikit-learn.org. See: https://github.com/scikit-learn/scikit-learn/issues/21755 */display: inline-block !important;position: relative;}#sk-container-id-1 div.sk-text-repr-fallback {display: none;}</style><div id=\"sk-container-id-1\" class=\"sk-top-container\"><div class=\"sk-text-repr-fallback\"><pre>RandomForestClassifier()</pre><b>In a Jupyter environment, please rerun this cell to show the HTML representation or trust the notebook. <br />On GitHub, the HTML representation is unable to render, please try loading this page with nbviewer.org.</b></div><div class=\"sk-container\" hidden><div class=\"sk-item\"><div class=\"sk-estimator sk-toggleable\"><input class=\"sk-toggleable__control sk-hidden--visually\" id=\"sk-estimator-id-1\" type=\"checkbox\" checked><label for=\"sk-estimator-id-1\" class=\"sk-toggleable__label sk-toggleable__label-arrow\">RandomForestClassifier</label><div class=\"sk-toggleable__content\"><pre>RandomForestClassifier()</pre></div></div></div></div></div>"
      ],
      "text/plain": [
       "RandomForestClassifier()"
      ]
     },
     "execution_count": 7,
     "metadata": {},
     "output_type": "execute_result"
    }
   ],
   "source": [
    "forest_model.fit(X_train,y_train)"
   ]
  },
  {
   "cell_type": "markdown",
   "id": "a20b8bde",
   "metadata": {},
   "source": [
    "#### (3) 평가"
   ]
  },
  {
   "cell_type": "code",
   "execution_count": 8,
   "id": "9be022fb",
   "metadata": {},
   "outputs": [],
   "source": [
    "# 학습한 모델로 예측 후 평가\n",
    "pre = forest_model.predict(X_test)"
   ]
  },
  {
   "cell_type": "code",
   "execution_count": 9,
   "id": "e2514f5a",
   "metadata": {},
   "outputs": [],
   "source": [
    "# 평가 결과 답안지 불러오기\n",
    "sub = pd.read_csv(\"data/titanic/gender_submission.csv\")\n",
    "# 평가 결과 답안지에 예측한 값 넣기\n",
    "sub['Survived'] = pre\n",
    "# 예측한 값을 넣은 평가 결과 답안지 파일로 내보내기 -> kaggle\n",
    "sub.to_csv('titanic3.csv', index=False)"
   ]
  },
  {
   "cell_type": "markdown",
   "id": "425fa449",
   "metadata": {},
   "source": [
    "##### 교차검증"
   ]
  },
  {
   "cell_type": "code",
   "execution_count": 10,
   "id": "0eb79159",
   "metadata": {},
   "outputs": [
    {
     "data": {
      "text/plain": [
       "0.8035842068922229"
      ]
     },
     "execution_count": 10,
     "metadata": {},
     "output_type": "execute_result"
    }
   ],
   "source": [
    "from sklearn.model_selection import cross_val_score\n",
    "result = cross_val_score(forest_model, X_train, y_train, cv=5)\n",
    "result.mean()"
   ]
  },
  {
   "cell_type": "code",
   "execution_count": 11,
   "id": "537f4c59",
   "metadata": {},
   "outputs": [],
   "source": [
    "forest_model.fit(X_train,y_train)\n",
    "pre = forest_model.predict(X_test)\n",
    "sub['Survived'] = pre\n",
    "sub.to_csv('titanic4.csv', index=False)"
   ]
  },
  {
   "cell_type": "code",
   "execution_count": 15,
   "id": "15c8c27c",
   "metadata": {},
   "outputs": [
    {
     "name": "stdout",
     "output_type": "stream",
     "text": [
      "n_estimators : 50, score : 0.8002322515849603\n",
      "n_estimators : 51, score : 0.8047266336074321\n",
      "n_estimators : 52, score : 0.8024794425961961\n",
      "n_estimators : 53, score : 0.8024982738057874\n",
      "n_estimators : 54, score : 0.8069738246186681\n",
      "n_estimators : 55, score : 0.8047203565375682\n",
      "n_estimators : 56, score : 0.7923670830456343\n",
      "n_estimators : 57, score : 0.806973824618668\n",
      "n_estimators : 58, score : 0.8024731655263324\n",
      "n_estimators : 59, score : 0.8002448057246877\n",
      "n_estimators : 60, score : 0.8024668884564685\n",
      "n_estimators : 61, score : 0.8024668884564685\n",
      "n_estimators : 62, score : 0.8002385286548239\n",
      "n_estimators : 63, score : 0.8024857196660597\n",
      "n_estimators : 64, score : 0.8114493754315486\n",
      "n_estimators : 65, score : 0.8036155922415416\n",
      "n_estimators : 66, score : 0.8024668884564686\n",
      "n_estimators : 67, score : 0.8047266336074319\n",
      "n_estimators : 68, score : 0.8092272926997678\n",
      "n_estimators : 69, score : 0.799114933149206\n",
      "n_estimators : 70, score : 0.8148389931579938\n",
      "n_estimators : 71, score : 0.8080848659845584\n",
      "n_estimators : 72, score : 0.8069675475488042\n",
      "n_estimators : 73, score : 0.796899127487289\n",
      "n_estimators : 74, score : 0.8114493754315486\n",
      "n_estimators : 75, score : 0.8002196974452327\n",
      "n_estimators : 76, score : 0.8024731655263324\n",
      "n_estimators : 77, score : 0.795744146632352\n",
      "n_estimators : 78, score : 0.8047140794677045\n",
      "n_estimators : 79, score : 0.8058627832527776\n",
      "n_estimators : 80, score : 0.8058565061829137\n",
      "n_estimators : 81, score : 0.8058439520431863\n",
      "n_estimators : 82, score : 0.8058376749733224\n",
      "n_estimators : 83, score : 0.8080848659845584\n",
      "n_estimators : 84, score : 0.8058439520431863\n",
      "n_estimators : 85, score : 0.8013746783001695\n",
      "n_estimators : 86, score : 0.8103383340656581\n",
      "n_estimators : 87, score : 0.8069675475488042\n",
      "n_estimators : 88, score : 0.80585022911305\n",
      "n_estimators : 89, score : 0.808097420124286\n",
      "n_estimators : 90, score : 0.8047140794677045\n",
      "n_estimators : 91, score : 0.8069612704789405\n",
      "n_estimators : 92, score : 0.8080848659845584\n",
      "n_estimators : 93, score : 0.7991023790094783\n",
      "n_estimators : 94, score : 0.8103257799259305\n",
      "n_estimators : 95, score : 0.8103257799259305\n",
      "n_estimators : 96, score : 0.8069675475488042\n",
      "n_estimators : 97, score : 0.8035967610319503\n",
      "n_estimators : 98, score : 0.8058376749733226\n",
      "n_estimators : 99, score : 0.7968802962776975\n",
      "n_estimators : 100, score : 0.80585022911305\n",
      "n_estimators : 101, score : 0.797991337643588\n",
      "n_estimators : 102, score : 0.8035967610319503\n",
      "n_estimators : 103, score : 0.8069675475488042\n",
      "n_estimators : 104, score : 0.8002510827945516\n",
      "n_estimators : 105, score : 0.803603038101814\n",
      "n_estimators : 106, score : 0.7991086560793421\n",
      "n_estimators : 107, score : 0.8002196974452327\n",
      "n_estimators : 108, score : 0.803603038101814\n",
      "n_estimators : 109, score : 0.8035904839620865\n",
      "n_estimators : 110, score : 0.8013370158809867\n",
      "n_estimators : 111, score : 0.8114619295712762\n",
      "n_estimators : 112, score : 0.8125792480070302\n",
      "n_estimators : 113, score : 0.8024668884564686\n",
      "n_estimators : 114, score : 0.8013684012303057\n",
      "n_estimators : 115, score : 0.8058376749733224\n",
      "n_estimators : 116, score : 0.8058439520431863\n",
      "n_estimators : 117, score : 0.8091959073504489\n",
      "n_estimators : 118, score : 0.8092084614901763\n",
      "n_estimators : 119, score : 0.8013432929508506\n",
      "n_estimators : 120, score : 0.8035904839620865\n",
      "n_estimators : 121, score : 0.8047140794677045\n",
      "n_estimators : 122, score : 0.8013621241604418\n",
      "n_estimators : 123, score : 0.8047329106772958\n",
      "n_estimators : 124, score : 0.8047266336074321\n",
      "n_estimators : 125, score : 0.8069738246186681\n",
      "n_estimators : 126, score : 0.8047266336074321\n",
      "n_estimators : 127, score : 0.8058439520431863\n",
      "n_estimators : 128, score : 0.8047140794677045\n",
      "n_estimators : 129, score : 0.8013495700207143\n",
      "n_estimators : 130, score : 0.8002259745150964\n",
      "n_estimators : 131, score : 0.7979976147134518\n",
      "n_estimators : 132, score : 0.8103320569957944\n",
      "n_estimators : 133, score : 0.8092084614901764\n",
      "n_estimators : 134, score : 0.8013495700207143\n",
      "n_estimators : 135, score : 0.8035904839620865\n",
      "n_estimators : 136, score : 0.7979976147134517\n",
      "n_estimators : 137, score : 0.80023225158496\n",
      "n_estimators : 138, score : 0.8047266336074321\n",
      "n_estimators : 139, score : 0.8047329106772958\n",
      "n_estimators : 140, score : 0.8103446111355218\n",
      "n_estimators : 141, score : 0.803603038101814\n",
      "n_estimators : 142, score : 0.8002322515849603\n",
      "n_estimators : 143, score : 0.8103320569957944\n",
      "n_estimators : 144, score : 0.8148201619484026\n",
      "n_estimators : 145, score : 0.8024794425961961\n",
      "n_estimators : 146, score : 0.8002259745150964\n",
      "n_estimators : 147, score : 0.8058439520431863\n",
      "n_estimators : 148, score : 0.8092084614901764\n",
      "n_estimators : 149, score : 0.8047266336074321\n",
      "n_estimators : 150, score : 0.8035842068922227\n"
     ]
    }
   ],
   "source": [
    "# 하이퍼 파라미터 튜닝\n",
    "# n_estimators를 50 ~ 150까지 바꿔가면서 결과 확인\n",
    "for i in range(50 , 151):\n",
    "    forest_model = RandomForestClassifier(n_estimators= i)\n",
    "    # 교차검증으로 평가\n",
    "    result = cross_val_score(forest_model, X_train, y_train, cv=5).mean()\n",
    "    print('n_estimators : {}, score : {}'.format(i,result))"
   ]
  },
  {
   "cell_type": "code",
   "execution_count": null,
   "id": "699ce885",
   "metadata": {},
   "outputs": [],
   "source": [
    "# (1) n_estimators를 제한 : for문 활용\n",
    "# (2) max_depth를 제한 : for문 활용\n",
    "# 최적의 하이퍼파리미터 조합을 찾기 위해서는 여러개의 for문이 필요\n",
    "# => 그리드서치 : 한번에 여러개의 하이퍼파리미터를 튜닝해주는 함수 GridSearch()\n",
    "# => GridSearchCV() : 하이퍼파라미터 튜닝 + 교차검증 "
   ]
  },
  {
   "cell_type": "code",
   "execution_count": 12,
   "id": "f9202f66",
   "metadata": {},
   "outputs": [],
   "source": [
    "# 1. 하이퍼파라미터 튜닝\n",
    "# GridSearchCV\n",
    "# n_estimators = [50,70,90,110,130,150]\n",
    "# max_depth = [3,4,5,6,7,8]\n",
    "# max_features = [0.3, 0.4, 0.5, 0.6]"
   ]
  }
 ],
 "metadata": {
  "kernelspec": {
   "display_name": "Python 3 (ipykernel)",
   "language": "python",
   "name": "python3"
  },
  "language_info": {
   "codemirror_mode": {
    "name": "ipython",
    "version": 3
   },
   "file_extension": ".py",
   "mimetype": "text/x-python",
   "name": "python",
   "nbconvert_exporter": "python",
   "pygments_lexer": "ipython3",
   "version": "3.10.9"
  }
 },
 "nbformat": 4,
 "nbformat_minor": 5
}
