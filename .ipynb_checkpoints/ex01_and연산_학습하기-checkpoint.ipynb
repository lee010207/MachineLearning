{
 "cells": [
  {
   "cell_type": "markdown",
   "id": "75a7d6bc",
   "metadata": {},
   "source": [
    "머신러닝 \n",
    "-> 기계 학습\n",
    "-> 입력된 데이터를 학습하고 그에따른 패턴과 규칙을 찾아 예측하는 것 \n",
    "\n",
    "머신러닝 종류\n",
    "- 지도학습(교사학습): 문제데이터 + 답데이터(교사)\n",
    "  - 유형 종류2: \n",
    "      분류 : 여러 클래스 중에서 하나를 찾는 것 \n",
    "      회귀 : 연속적인 수치값을 예측하는 것 \n",
    "- 비지도학습(비교사학습): 문제 데이터 \n",
    "   - 데이터의 의미를 파악, 비슷한 데이터끼리 묶음 \n",
    "      군집화(clustering)\n",
    "- 강화학습(reinforcement learning): 로봇(행동 주체자) 에게 환경에대해 학습하게 하는 일련의 과정 \n",
    "\n",
    "> 실습 내용 \n",
    "데이터 분석 라이브러리 복기 + 머신러닝 과정 \n",
    "and 학습시켜보기  \n"
   ]
  },
  {
   "cell_type": "markdown",
   "id": "55f65941",
   "metadata": {},
   "source": [
    "### 문제정의\n",
    "- 훈련 데이터와 테스트 데이터 이해하기\n",
    "- 머신러닝의 일련의 과정 이해하기\n",
    "- AND연산의 결과를 도출하는 머신러닝 모델 학습하기"
   ]
  },
  {
   "cell_type": "code",
   "execution_count": 19,
   "id": "44871824",
   "metadata": {},
   "outputs": [],
   "source": [
    "import pandas as pd\n",
    "import numpy as np\n",
    "import matplotlib.pyplot as plt"
   ]
  },
  {
   "cell_type": "markdown",
   "id": "7e843623",
   "metadata": {},
   "source": [
    "### 데이터 준비\n",
    "- and 연산 데이터 생성하기"
   ]
  },
  {
   "cell_type": "code",
   "execution_count": 20,
   "id": "8516267a",
   "metadata": {},
   "outputs": [
    {
     "data": {
      "text/html": [
       "<div>\n",
       "<style scoped>\n",
       "    .dataframe tbody tr th:only-of-type {\n",
       "        vertical-align: middle;\n",
       "    }\n",
       "\n",
       "    .dataframe tbody tr th {\n",
       "        vertical-align: top;\n",
       "    }\n",
       "\n",
       "    .dataframe thead th {\n",
       "        text-align: right;\n",
       "    }\n",
       "</style>\n",
       "<table border=\"1\" class=\"dataframe\">\n",
       "  <thead>\n",
       "    <tr style=\"text-align: right;\">\n",
       "      <th></th>\n",
       "      <th>A</th>\n",
       "      <th>B</th>\n",
       "      <th>A and B</th>\n",
       "    </tr>\n",
       "  </thead>\n",
       "  <tbody>\n",
       "    <tr>\n",
       "      <th>0</th>\n",
       "      <td>0</td>\n",
       "      <td>0</td>\n",
       "      <td>0</td>\n",
       "    </tr>\n",
       "    <tr>\n",
       "      <th>1</th>\n",
       "      <td>0</td>\n",
       "      <td>1</td>\n",
       "      <td>0</td>\n",
       "    </tr>\n",
       "    <tr>\n",
       "      <th>2</th>\n",
       "      <td>1</td>\n",
       "      <td>0</td>\n",
       "      <td>0</td>\n",
       "    </tr>\n",
       "    <tr>\n",
       "      <th>3</th>\n",
       "      <td>1</td>\n",
       "      <td>1</td>\n",
       "      <td>1</td>\n",
       "    </tr>\n",
       "    <tr>\n",
       "      <th>4</th>\n",
       "      <td>1</td>\n",
       "      <td>0</td>\n",
       "      <td>0</td>\n",
       "    </tr>\n",
       "    <tr>\n",
       "      <th>5</th>\n",
       "      <td>0</td>\n",
       "      <td>0</td>\n",
       "      <td>0</td>\n",
       "    </tr>\n",
       "    <tr>\n",
       "      <th>6</th>\n",
       "      <td>1</td>\n",
       "      <td>1</td>\n",
       "      <td>1</td>\n",
       "    </tr>\n",
       "    <tr>\n",
       "      <th>7</th>\n",
       "      <td>0</td>\n",
       "      <td>1</td>\n",
       "      <td>0</td>\n",
       "    </tr>\n",
       "  </tbody>\n",
       "</table>\n",
       "</div>"
      ],
      "text/plain": [
       "   A  B  A and B\n",
       "0  0  0        0\n",
       "1  0  1        0\n",
       "2  1  0        0\n",
       "3  1  1        1\n",
       "4  1  0        0\n",
       "5  0  0        0\n",
       "6  1  1        1\n",
       "7  0  1        0"
      ]
     },
     "execution_count": 20,
     "metadata": {},
     "output_type": "execute_result"
    }
   ],
   "source": [
    "# (1) 리스트로 만들기\n",
    "# 이중리스트 : [[0,0,0],[0,1,0],...]\n",
    "\n",
    "#(2) 딕셔너리 {컬럼명:[0,0,0],...}\n",
    "\n",
    "dic = {'A':[0,0,1,1,1,0,1,0],'B':[0,1,0,1,0,0,1,1],'A and B':[0,0,0,1,0,0,1,0]}\n",
    "df = pd.DataFrame(dic)\n",
    "df"
   ]
  },
  {
   "cell_type": "markdown",
   "id": "47606da3",
   "metadata": {},
   "source": [
    "### 데이터 전처리"
   ]
  },
  {
   "cell_type": "code",
   "execution_count": 21,
   "id": "a88368d3",
   "metadata": {
    "scrolled": true
   },
   "outputs": [
    {
     "data": {
      "text/html": [
       "<div>\n",
       "<style scoped>\n",
       "    .dataframe tbody tr th:only-of-type {\n",
       "        vertical-align: middle;\n",
       "    }\n",
       "\n",
       "    .dataframe tbody tr th {\n",
       "        vertical-align: top;\n",
       "    }\n",
       "\n",
       "    .dataframe thead th {\n",
       "        text-align: right;\n",
       "    }\n",
       "</style>\n",
       "<table border=\"1\" class=\"dataframe\">\n",
       "  <thead>\n",
       "    <tr style=\"text-align: right;\">\n",
       "      <th></th>\n",
       "      <th>A</th>\n",
       "      <th>B</th>\n",
       "    </tr>\n",
       "  </thead>\n",
       "  <tbody>\n",
       "    <tr>\n",
       "      <th>0</th>\n",
       "      <td>0</td>\n",
       "      <td>0</td>\n",
       "    </tr>\n",
       "    <tr>\n",
       "      <th>1</th>\n",
       "      <td>0</td>\n",
       "      <td>1</td>\n",
       "    </tr>\n",
       "    <tr>\n",
       "      <th>2</th>\n",
       "      <td>1</td>\n",
       "      <td>0</td>\n",
       "    </tr>\n",
       "    <tr>\n",
       "      <th>3</th>\n",
       "      <td>1</td>\n",
       "      <td>1</td>\n",
       "    </tr>\n",
       "    <tr>\n",
       "      <th>4</th>\n",
       "      <td>1</td>\n",
       "      <td>0</td>\n",
       "    </tr>\n",
       "    <tr>\n",
       "      <th>5</th>\n",
       "      <td>0</td>\n",
       "      <td>0</td>\n",
       "    </tr>\n",
       "    <tr>\n",
       "      <th>6</th>\n",
       "      <td>1</td>\n",
       "      <td>1</td>\n",
       "    </tr>\n",
       "    <tr>\n",
       "      <th>7</th>\n",
       "      <td>0</td>\n",
       "      <td>1</td>\n",
       "    </tr>\n",
       "  </tbody>\n",
       "</table>\n",
       "</div>"
      ],
      "text/plain": [
       "   A  B\n",
       "0  0  0\n",
       "1  0  1\n",
       "2  1  0\n",
       "3  1  1\n",
       "4  1  0\n",
       "5  0  0\n",
       "6  1  1\n",
       "7  0  1"
      ]
     },
     "execution_count": 21,
     "metadata": {},
     "output_type": "execute_result"
    }
   ],
   "source": [
    "# X : 문제 데이터(A,B컬럼), y : 답(실제적인 답, A and B) 분리\n",
    "# 넘파이(배열 Array) > 2차원배열[행] , 배열[행][열] , 배열[행,열]\n",
    "# 넘파이에서 썼던 방법대로 인덱싱하기 위해 인덱서 사용\n",
    "# 판다스(DataFrame) > df.loc[행,열] , df.iloc[행:행, 열:열]\n",
    "\n",
    "# X\n",
    "df.loc[:,['A','B']]\n",
    "df.loc[:,'A':'B']\n",
    "df[['A','B']]\n",
    "# df['A':'B'] : -> ':'이 있어서 행인덱싱(슬라이싱)으로 인식"
   ]
  },
  {
   "cell_type": "code",
   "execution_count": 22,
   "id": "4a543e8b",
   "metadata": {},
   "outputs": [
    {
     "data": {
      "text/plain": [
       "0    0\n",
       "1    0\n",
       "2    0\n",
       "3    1\n",
       "4    0\n",
       "5    0\n",
       "6    1\n",
       "7    0\n",
       "Name: A and B, dtype: int64"
      ]
     },
     "execution_count": 22,
     "metadata": {},
     "output_type": "execute_result"
    }
   ],
   "source": [
    "# y\n",
    "df.iloc[:,2]\n",
    "df.loc[:, 'A and B']"
   ]
  },
  {
   "cell_type": "code",
   "execution_count": 23,
   "id": "56dfac52",
   "metadata": {},
   "outputs": [
    {
     "name": "stdout",
     "output_type": "stream",
     "text": [
      "문제크기 : (8, 2)\n",
      "답 크기 : (8,)\n"
     ]
    }
   ],
   "source": [
    "X = df.iloc[:,:2]\n",
    "y = df['A and B']\n",
    "# X: 2차원\n",
    "# y: 1차원 시리즈 클래스 형태로\n",
    "\n",
    "print('문제크기 :', X.shape)\n",
    "print('답 크기 :', y.shape)\n"
   ]
  },
  {
   "cell_type": "code",
   "execution_count": 25,
   "id": "9400f873",
   "metadata": {
    "scrolled": true
   },
   "outputs": [
    {
     "name": "stdout",
     "output_type": "stream",
     "text": [
      "훈련용 : (6, 2) (6,)\n",
      "테스트용 : (2, 2) (2,)\n"
     ]
    }
   ],
   "source": [
    "# 훈련용(학습과정), 테스트 데이터(평가 및 예측 과정) 분리\n",
    "# X,y - 훈련용(X_train, y_train) / X,y - 테스트용(X_test, y_test) : 행 접근\n",
    "\n",
    "# X_train = X.iloc[:6]\n",
    "# X_test = X.iloc[6:]\n",
    "\n",
    "X_train = X.iloc[:6,:]\n",
    "X_test = X.iloc[6: , :]\n",
    "\n",
    "# y_train = y.iloc[:6]\n",
    "# y_test = y.iloc[6:]\n",
    "\n",
    "y_train = y[:6]\n",
    "y_test = y[6:]\n",
    "\n",
    "print('훈련용 :',X_train.shape,y_train.shape)\n",
    "print('테스트용 :',X_test.shape,y_test.shape)"
   ]
  },
  {
   "cell_type": "markdown",
   "id": "b53de196",
   "metadata": {},
   "source": [
    "### 데이터 탐색 (탐색적 데이터 분석)\n",
    "- a컬럼 int 데이터 , 0/1\n",
    "- b컬럼 int 데이터 , 0/1\n",
    "- a and b컬럼 int 데이터 , 0/1\n",
    "- 결측치 x , 이상치 x"
   ]
  },
  {
   "cell_type": "markdown",
   "id": "a0dfb774",
   "metadata": {},
   "source": [
    "### 모델링\n",
    "- 모델 선택 및 하이퍼 파라미터 조정\n",
    "- 모델 학습\n",
    "- 모델 예측 및 평가"
   ]
  },
  {
   "cell_type": "code",
   "execution_count": 13,
   "id": "5cf258de",
   "metadata": {},
   "outputs": [],
   "source": [
    "# 머신 모델 선택\n",
    "# 모델 학습(훈련 과정)\n",
    "# 모델 평가 및 예측(테스트 과정)"
   ]
  },
  {
   "cell_type": "code",
   "execution_count": 14,
   "id": "e1c07994",
   "metadata": {},
   "outputs": [],
   "source": [
    "# 모델 불러오기\n",
    "# 분류하는 모델 중 knn 모델을 불러오기\n",
    "# sklearn(scikit-learn) 머신러닝 패키지 : 머신러닝에 사용되는 도구를 담은 패키지\n",
    "# 지도 / 비지도 / 강화, 분류 / 회귀, 평가 공식(기능), 데이터 전처리 기능\n",
    "from sklearn.neighbors import KNeighborsClassifier\n",
    "from sklearn.metrics import accuracy_score"
   ]
  },
  {
   "cell_type": "code",
   "execution_count": 15,
   "id": "88324a36",
   "metadata": {},
   "outputs": [],
   "source": [
    "# 모델 객체 생성\n",
    "# 모델마다 하이퍼 파라미터명 다름, 쓰임 다름\n",
    "# knn 에서는 n_neighbors 가 하이퍼 파라미터(사람이 설정하는 값)\n",
    "knn_model = KNeighborsClassifier(n_neighbors=1)\n",
    "# 사람이 설정하는 하이퍼 파라미터에 따라 결과가 바뀜!\n",
    "# 예측이 잘되는 값이 있고, 안될 때가 있음"
   ]
  },
  {
   "cell_type": "code",
   "execution_count": 26,
   "id": "dbffefdd",
   "metadata": {},
   "outputs": [
    {
     "data": {
      "text/html": [
       "<style>#sk-container-id-1 {color: black;background-color: white;}#sk-container-id-1 pre{padding: 0;}#sk-container-id-1 div.sk-toggleable {background-color: white;}#sk-container-id-1 label.sk-toggleable__label {cursor: pointer;display: block;width: 100%;margin-bottom: 0;padding: 0.3em;box-sizing: border-box;text-align: center;}#sk-container-id-1 label.sk-toggleable__label-arrow:before {content: \"▸\";float: left;margin-right: 0.25em;color: #696969;}#sk-container-id-1 label.sk-toggleable__label-arrow:hover:before {color: black;}#sk-container-id-1 div.sk-estimator:hover label.sk-toggleable__label-arrow:before {color: black;}#sk-container-id-1 div.sk-toggleable__content {max-height: 0;max-width: 0;overflow: hidden;text-align: left;background-color: #f0f8ff;}#sk-container-id-1 div.sk-toggleable__content pre {margin: 0.2em;color: black;border-radius: 0.25em;background-color: #f0f8ff;}#sk-container-id-1 input.sk-toggleable__control:checked~div.sk-toggleable__content {max-height: 200px;max-width: 100%;overflow: auto;}#sk-container-id-1 input.sk-toggleable__control:checked~label.sk-toggleable__label-arrow:before {content: \"▾\";}#sk-container-id-1 div.sk-estimator input.sk-toggleable__control:checked~label.sk-toggleable__label {background-color: #d4ebff;}#sk-container-id-1 div.sk-label input.sk-toggleable__control:checked~label.sk-toggleable__label {background-color: #d4ebff;}#sk-container-id-1 input.sk-hidden--visually {border: 0;clip: rect(1px 1px 1px 1px);clip: rect(1px, 1px, 1px, 1px);height: 1px;margin: -1px;overflow: hidden;padding: 0;position: absolute;width: 1px;}#sk-container-id-1 div.sk-estimator {font-family: monospace;background-color: #f0f8ff;border: 1px dotted black;border-radius: 0.25em;box-sizing: border-box;margin-bottom: 0.5em;}#sk-container-id-1 div.sk-estimator:hover {background-color: #d4ebff;}#sk-container-id-1 div.sk-parallel-item::after {content: \"\";width: 100%;border-bottom: 1px solid gray;flex-grow: 1;}#sk-container-id-1 div.sk-label:hover label.sk-toggleable__label {background-color: #d4ebff;}#sk-container-id-1 div.sk-serial::before {content: \"\";position: absolute;border-left: 1px solid gray;box-sizing: border-box;top: 0;bottom: 0;left: 50%;z-index: 0;}#sk-container-id-1 div.sk-serial {display: flex;flex-direction: column;align-items: center;background-color: white;padding-right: 0.2em;padding-left: 0.2em;position: relative;}#sk-container-id-1 div.sk-item {position: relative;z-index: 1;}#sk-container-id-1 div.sk-parallel {display: flex;align-items: stretch;justify-content: center;background-color: white;position: relative;}#sk-container-id-1 div.sk-item::before, #sk-container-id-1 div.sk-parallel-item::before {content: \"\";position: absolute;border-left: 1px solid gray;box-sizing: border-box;top: 0;bottom: 0;left: 50%;z-index: -1;}#sk-container-id-1 div.sk-parallel-item {display: flex;flex-direction: column;z-index: 1;position: relative;background-color: white;}#sk-container-id-1 div.sk-parallel-item:first-child::after {align-self: flex-end;width: 50%;}#sk-container-id-1 div.sk-parallel-item:last-child::after {align-self: flex-start;width: 50%;}#sk-container-id-1 div.sk-parallel-item:only-child::after {width: 0;}#sk-container-id-1 div.sk-dashed-wrapped {border: 1px dashed gray;margin: 0 0.4em 0.5em 0.4em;box-sizing: border-box;padding-bottom: 0.4em;background-color: white;}#sk-container-id-1 div.sk-label label {font-family: monospace;font-weight: bold;display: inline-block;line-height: 1.2em;}#sk-container-id-1 div.sk-label-container {text-align: center;}#sk-container-id-1 div.sk-container {/* jupyter's `normalize.less` sets `[hidden] { display: none; }` but bootstrap.min.css set `[hidden] { display: none !important; }` so we also need the `!important` here to be able to override the default hidden behavior on the sphinx rendered scikit-learn.org. See: https://github.com/scikit-learn/scikit-learn/issues/21755 */display: inline-block !important;position: relative;}#sk-container-id-1 div.sk-text-repr-fallback {display: none;}</style><div id=\"sk-container-id-1\" class=\"sk-top-container\"><div class=\"sk-text-repr-fallback\"><pre>KNeighborsClassifier(n_neighbors=1)</pre><b>In a Jupyter environment, please rerun this cell to show the HTML representation or trust the notebook. <br />On GitHub, the HTML representation is unable to render, please try loading this page with nbviewer.org.</b></div><div class=\"sk-container\" hidden><div class=\"sk-item\"><div class=\"sk-estimator sk-toggleable\"><input class=\"sk-toggleable__control sk-hidden--visually\" id=\"sk-estimator-id-1\" type=\"checkbox\" checked><label for=\"sk-estimator-id-1\" class=\"sk-toggleable__label sk-toggleable__label-arrow\">KNeighborsClassifier</label><div class=\"sk-toggleable__content\"><pre>KNeighborsClassifier(n_neighbors=1)</pre></div></div></div></div></div>"
      ],
      "text/plain": [
       "KNeighborsClassifier(n_neighbors=1)"
      ]
     },
     "execution_count": 26,
     "metadata": {},
     "output_type": "execute_result"
    }
   ],
   "source": [
    "# 모델 학습 : '기본서 공부'\n",
    "# 모델이 학습할 때 사용하는 함수 : fit(학습용(훈련용) 문제 데이터, 학습용 답 테이터)\n",
    "knn_model.fit(X_train, y_train)"
   ]
  },
  {
   "cell_type": "code",
   "execution_count": 28,
   "id": "be024dca",
   "metadata": {},
   "outputs": [
    {
     "data": {
      "text/plain": [
       "array([1, 0], dtype=int64)"
      ]
     },
     "execution_count": 28,
     "metadata": {},
     "output_type": "execute_result"
    }
   ],
   "source": [
    "# 모델 예측 : '문제 풀이'\n",
    "# predict(테스트용 문제 데이터)\n",
    "pre = knn_model.predict(X_test)\n",
    "pre\n",
    "# : 예측 결과를 담은 변수"
   ]
  },
  {
   "cell_type": "markdown",
   "id": "e983c633",
   "metadata": {},
   "source": [
    "X : 문제 데이터 (A,B 컬럼 잘라서 나눔)\n",
    "- X_train : 훈련용 문제 데이터 '이론 공부'\n",
    "- X_test :  테스트용 문제 데이터 '문제 풀이'\n",
    "\n",
    "y : 답 데이터 (A and B 컬럼 잘라서 나눔)\n",
    "- y_train : 훈련용 답 데이터\n",
    "- y_test : 테스트용 답 데이터 "
   ]
  },
  {
   "cell_type": "code",
   "execution_count": 29,
   "id": "f1130635",
   "metadata": {},
   "outputs": [
    {
     "data": {
      "text/html": [
       "<div>\n",
       "<style scoped>\n",
       "    .dataframe tbody tr th:only-of-type {\n",
       "        vertical-align: middle;\n",
       "    }\n",
       "\n",
       "    .dataframe tbody tr th {\n",
       "        vertical-align: top;\n",
       "    }\n",
       "\n",
       "    .dataframe thead th {\n",
       "        text-align: right;\n",
       "    }\n",
       "</style>\n",
       "<table border=\"1\" class=\"dataframe\">\n",
       "  <thead>\n",
       "    <tr style=\"text-align: right;\">\n",
       "      <th></th>\n",
       "      <th>A</th>\n",
       "      <th>B</th>\n",
       "    </tr>\n",
       "  </thead>\n",
       "  <tbody>\n",
       "    <tr>\n",
       "      <th>6</th>\n",
       "      <td>1</td>\n",
       "      <td>1</td>\n",
       "    </tr>\n",
       "    <tr>\n",
       "      <th>7</th>\n",
       "      <td>0</td>\n",
       "      <td>1</td>\n",
       "    </tr>\n",
       "  </tbody>\n",
       "</table>\n",
       "</div>"
      ],
      "text/plain": [
       "   A  B\n",
       "6  1  1\n",
       "7  0  1"
      ]
     },
     "execution_count": 29,
     "metadata": {},
     "output_type": "execute_result"
    }
   ],
   "source": [
    "X_test"
   ]
  },
  {
   "cell_type": "code",
   "execution_count": 30,
   "id": "53c59ebf",
   "metadata": {},
   "outputs": [
    {
     "data": {
      "text/plain": [
       "1.0"
      ]
     },
     "execution_count": 30,
     "metadata": {},
     "output_type": "execute_result"
    }
   ],
   "source": [
    "# 모델 평가 : 예측이 실제 값과 비교했을 때 몇개나 잘 맞췄는지 표현하는 점수 확인\n",
    "# accuracy_score()\n",
    "# 1.0 * 100 = 100% : 전체 다 맞춤 => 1.0 == 100%\n",
    "# 0 ~ 1로 출력 , 1에 가까울수록 잘 맞춤\n",
    "accuracy_score(y_test, pre)"
   ]
  },
  {
   "cell_type": "code",
   "execution_count": null,
   "id": "cd8aae8f",
   "metadata": {},
   "outputs": [],
   "source": []
  }
 ],
 "metadata": {
  "kernelspec": {
   "display_name": "Python 3 (ipykernel)",
   "language": "python",
   "name": "python3"
  },
  "language_info": {
   "codemirror_mode": {
    "name": "ipython",
    "version": 3
   },
   "file_extension": ".py",
   "mimetype": "text/x-python",
   "name": "python",
   "nbconvert_exporter": "python",
   "pygments_lexer": "ipython3",
   "version": "3.10.9"
  }
 },
 "nbformat": 4,
 "nbformat_minor": 5
}
