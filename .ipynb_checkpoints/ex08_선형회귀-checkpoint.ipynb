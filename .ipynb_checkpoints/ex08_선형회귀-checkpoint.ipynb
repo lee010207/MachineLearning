{
 "cells": [
  {
   "cell_type": "markdown",
   "id": "432780c4",
   "metadata": {},
   "source": [
    "## 선형회귀\n",
    " - 성적데이터를 기반으로 선형 회귀 이해하기"
   ]
  },
  {
   "cell_type": "code",
   "execution_count": 1,
   "id": "3a4ee38b",
   "metadata": {},
   "outputs": [],
   "source": [
    "# 성적 데이터 생성을 위한 라이브러리 꺼내오기\n",
    "import pandas as pd\n",
    "import matplotlib.pyplot as plt"
   ]
  },
  {
   "cell_type": "code",
   "execution_count": 4,
   "id": "036ffc94",
   "metadata": {},
   "outputs": [],
   "source": [
    "# 성적 데이터 생성\n",
    "df = pd.DataFrame([[2,20],[4,40],[7,70],[9,90]],\n",
    "            index = ['a','b','c','d'],\n",
    "            columns=['시간','성적'])"
   ]
  },
  {
   "cell_type": "markdown",
   "id": "34550f82",
   "metadata": {},
   "source": [
    "### MSE가 최소가 되는 최적의 w, b를 찾는 방법\n",
    " - MSE : 평균제곱오차 -> 비용함수(cost)\n",
    " - 1. 수학공식을 이용한 해석적 모델\n",
    " - 2. 경사하강법(XGBoost에서 오차 계산하는 방법)\n",
    " "
   ]
  },
  {
   "cell_type": "markdown",
   "id": "0a3828a9",
   "metadata": {},
   "source": [
    "#### (1) 수학 공식을 이용한 해석적 모델\n",
    " - LinearRegression\n",
    "     - 공식을 이용해서 적은 계산으로 한번에 최적의 선형함수를 찾는 방법\n",
    "     - 공식이 완벽하지 않을 경우 잘 못 찾을 수도 있고,\n",
    "     - 공식이 잘못되었을 경우 고칠수 없다는 문제가 있음 ==> 추후 규제를 접목개선 "
   ]
  },
  {
   "cell_type": "code",
   "execution_count": 5,
   "id": "66dc62ee",
   "metadata": {},
   "outputs": [
    {
     "data": {
      "text/html": [
       "<style>#sk-container-id-1 {color: black;background-color: white;}#sk-container-id-1 pre{padding: 0;}#sk-container-id-1 div.sk-toggleable {background-color: white;}#sk-container-id-1 label.sk-toggleable__label {cursor: pointer;display: block;width: 100%;margin-bottom: 0;padding: 0.3em;box-sizing: border-box;text-align: center;}#sk-container-id-1 label.sk-toggleable__label-arrow:before {content: \"▸\";float: left;margin-right: 0.25em;color: #696969;}#sk-container-id-1 label.sk-toggleable__label-arrow:hover:before {color: black;}#sk-container-id-1 div.sk-estimator:hover label.sk-toggleable__label-arrow:before {color: black;}#sk-container-id-1 div.sk-toggleable__content {max-height: 0;max-width: 0;overflow: hidden;text-align: left;background-color: #f0f8ff;}#sk-container-id-1 div.sk-toggleable__content pre {margin: 0.2em;color: black;border-radius: 0.25em;background-color: #f0f8ff;}#sk-container-id-1 input.sk-toggleable__control:checked~div.sk-toggleable__content {max-height: 200px;max-width: 100%;overflow: auto;}#sk-container-id-1 input.sk-toggleable__control:checked~label.sk-toggleable__label-arrow:before {content: \"▾\";}#sk-container-id-1 div.sk-estimator input.sk-toggleable__control:checked~label.sk-toggleable__label {background-color: #d4ebff;}#sk-container-id-1 div.sk-label input.sk-toggleable__control:checked~label.sk-toggleable__label {background-color: #d4ebff;}#sk-container-id-1 input.sk-hidden--visually {border: 0;clip: rect(1px 1px 1px 1px);clip: rect(1px, 1px, 1px, 1px);height: 1px;margin: -1px;overflow: hidden;padding: 0;position: absolute;width: 1px;}#sk-container-id-1 div.sk-estimator {font-family: monospace;background-color: #f0f8ff;border: 1px dotted black;border-radius: 0.25em;box-sizing: border-box;margin-bottom: 0.5em;}#sk-container-id-1 div.sk-estimator:hover {background-color: #d4ebff;}#sk-container-id-1 div.sk-parallel-item::after {content: \"\";width: 100%;border-bottom: 1px solid gray;flex-grow: 1;}#sk-container-id-1 div.sk-label:hover label.sk-toggleable__label {background-color: #d4ebff;}#sk-container-id-1 div.sk-serial::before {content: \"\";position: absolute;border-left: 1px solid gray;box-sizing: border-box;top: 0;bottom: 0;left: 50%;z-index: 0;}#sk-container-id-1 div.sk-serial {display: flex;flex-direction: column;align-items: center;background-color: white;padding-right: 0.2em;padding-left: 0.2em;position: relative;}#sk-container-id-1 div.sk-item {position: relative;z-index: 1;}#sk-container-id-1 div.sk-parallel {display: flex;align-items: stretch;justify-content: center;background-color: white;position: relative;}#sk-container-id-1 div.sk-item::before, #sk-container-id-1 div.sk-parallel-item::before {content: \"\";position: absolute;border-left: 1px solid gray;box-sizing: border-box;top: 0;bottom: 0;left: 50%;z-index: -1;}#sk-container-id-1 div.sk-parallel-item {display: flex;flex-direction: column;z-index: 1;position: relative;background-color: white;}#sk-container-id-1 div.sk-parallel-item:first-child::after {align-self: flex-end;width: 50%;}#sk-container-id-1 div.sk-parallel-item:last-child::after {align-self: flex-start;width: 50%;}#sk-container-id-1 div.sk-parallel-item:only-child::after {width: 0;}#sk-container-id-1 div.sk-dashed-wrapped {border: 1px dashed gray;margin: 0 0.4em 0.5em 0.4em;box-sizing: border-box;padding-bottom: 0.4em;background-color: white;}#sk-container-id-1 div.sk-label label {font-family: monospace;font-weight: bold;display: inline-block;line-height: 1.2em;}#sk-container-id-1 div.sk-label-container {text-align: center;}#sk-container-id-1 div.sk-container {/* jupyter's `normalize.less` sets `[hidden] { display: none; }` but bootstrap.min.css set `[hidden] { display: none !important; }` so we also need the `!important` here to be able to override the default hidden behavior on the sphinx rendered scikit-learn.org. See: https://github.com/scikit-learn/scikit-learn/issues/21755 */display: inline-block !important;position: relative;}#sk-container-id-1 div.sk-text-repr-fallback {display: none;}</style><div id=\"sk-container-id-1\" class=\"sk-top-container\"><div class=\"sk-text-repr-fallback\"><pre>LinearRegression()</pre><b>In a Jupyter environment, please rerun this cell to show the HTML representation or trust the notebook. <br />On GitHub, the HTML representation is unable to render, please try loading this page with nbviewer.org.</b></div><div class=\"sk-container\" hidden><div class=\"sk-item\"><div class=\"sk-estimator sk-toggleable\"><input class=\"sk-toggleable__control sk-hidden--visually\" id=\"sk-estimator-id-1\" type=\"checkbox\" checked><label for=\"sk-estimator-id-1\" class=\"sk-toggleable__label sk-toggleable__label-arrow\">LinearRegression</label><div class=\"sk-toggleable__content\"><pre>LinearRegression()</pre></div></div></div></div></div>"
      ],
      "text/plain": [
       "LinearRegression()"
      ]
     },
     "execution_count": 5,
     "metadata": {},
     "output_type": "execute_result"
    }
   ],
   "source": [
    "from sklearn.linear_model import LinearRegression\n",
    "\n",
    "# 모델 생성 및 하이퍼 파라미터 설정\n",
    "linear = LinearRegression()\n",
    "\n",
    "# 학습\n",
    "linear.fit(df[['시간']], df['성적'])\n",
    "# 문제는 2차원, 정답은 1차원"
   ]
  },
  {
   "cell_type": "markdown",
   "id": "fd393d7d",
   "metadata": {},
   "source": [
    "##### y = wx + b (1개의 문제)"
   ]
  },
  {
   "cell_type": "code",
   "execution_count": 6,
   "id": "5cf61e09",
   "metadata": {},
   "outputs": [
    {
     "name": "stdout",
     "output_type": "stream",
     "text": [
      "기울기 , 가중치 :  [10.]\n",
      "절편 , 편향 :  -7.105427357601002e-15\n"
     ]
    }
   ],
   "source": [
    "# 기울기, 가중치 출력\n",
    "print('기울기 , 가중치 : ',linear.coef_)\n",
    "\n",
    "# 절편, 편향 출력\n",
    "print('절편 , 편향 : ',linear.intercept_)"
   ]
  },
  {
   "cell_type": "code",
   "execution_count": 7,
   "id": "9497546e",
   "metadata": {},
   "outputs": [
    {
     "name": "stderr",
     "output_type": "stream",
     "text": [
      "C:\\Users\\gjaischool1\\anaconda3\\lib\\site-packages\\sklearn\\base.py:420: UserWarning: X does not have valid feature names, but LinearRegression was fitted with feature names\n",
      "  warnings.warn(\n"
     ]
    },
    {
     "data": {
      "text/plain": [
       "array([70.])"
      ]
     },
     "execution_count": 7,
     "metadata": {},
     "output_type": "execute_result"
    }
   ],
   "source": [
    "# 7시간 공부했을 때 몇 점? -> 예측\n",
    "linear.predict([[7]])"
   ]
  },
  {
   "cell_type": "markdown",
   "id": "f367fc11",
   "metadata": {},
   "source": [
    "### H(x)\n",
    " - 가설함수"
   ]
  },
  {
   "cell_type": "code",
   "execution_count": 8,
   "id": "301d791d",
   "metadata": {},
   "outputs": [],
   "source": [
    "# 함수정의\n",
    "def h(w, x):\n",
    "    return w * x + 0"
   ]
  },
  {
   "cell_type": "markdown",
   "id": "58503f5b",
   "metadata": {},
   "source": [
    "### 비용함수 (Cost Function)\n",
    " - 비용 = 오차"
   ]
  },
  {
   "cell_type": "code",
   "execution_count": 13,
   "id": "a52e2008",
   "metadata": {},
   "outputs": [],
   "source": [
    "# 비용함수 정의\n",
    "# data : 문제 값\n",
    "# target : 정답(실제 값)\n",
    "# weight : 가중치\n",
    "\n",
    "def cost(data, target, weight):\n",
    "    # 예측\n",
    "    y_pre = h(weight, data)\n",
    "    # 평균제곱오차 = ((예측값 - 실제값)**2).mean()\n",
    "    error = ((y_pre - target)**2).mean()\n",
    "    return error"
   ]
  },
  {
   "cell_type": "code",
   "execution_count": 14,
   "id": "9f1b6fb7",
   "metadata": {},
   "outputs": [
    {
     "data": {
      "text/plain": [
       "0.0"
      ]
     },
     "execution_count": 14,
     "metadata": {},
     "output_type": "execute_result"
    }
   ],
   "source": [
    "cost(df['시간'], df['성적'], 10)"
   ]
  },
  {
   "cell_type": "code",
   "execution_count": 15,
   "id": "b073dc67",
   "metadata": {},
   "outputs": [
    {
     "data": {
      "text/plain": [
       "[937.5, 600.0, 337.5, 150.0, 37.5, 0.0, 37.5, 150.0, 337.5, 600.0, 937.5]"
      ]
     },
     "execution_count": 15,
     "metadata": {},
     "output_type": "execute_result"
    }
   ],
   "source": [
    "# 가중치 변화에 따른 비용함수의 변화를 그래프로 확인\n",
    "cost_list = []\n",
    "\n",
    "for w in range(5,16):\n",
    "    err = cost(df['시간'], df['성적'], w)\n",
    "    cost_list.append(err)\n",
    "\n",
    "cost_list"
   ]
  },
  {
   "cell_type": "code",
   "execution_count": 16,
   "id": "14eda371",
   "metadata": {},
   "outputs": [
    {
     "data": {
      "image/png": "[encoded data removed]",
      "text/plain": [
       "<Figure size 640x480 with 1 Axes>"
      ]
     },
     "metadata": {},
     "output_type": "display_data"
    }
   ],
   "source": [
    "# 비용함수(MSE) 그래프 그리기\n",
    "plt.plot(range(5,16), cost_list)\n",
    "plt.show()"
   ]
  },
  {
   "cell_type": "code",
   "execution_count": 17,
   "id": "8d2514d9",
   "metadata": {},
   "outputs": [
    {
     "data": {
      "text/plain": [
       "1.0"
      ]
     },
     "execution_count": 17,
     "metadata": {},
     "output_type": "execute_result"
    }
   ],
   "source": [
    "linear.score(df[['시간']],df['성적'] )\n",
    "# 분류모델 : score - 정확도\n",
    "# 회귀모델 : score(MSE를 기반으로 한 R2score) - 유사도\n"
   ]
  },
  {
   "cell_type": "markdown",
   "id": "18cc676f",
   "metadata": {},
   "source": [
    "### 경사하강법\n",
    " - SGDRegressor\n",
    "     - 점진적으로 오차가 작은 선형함수를 찾아가는 방법\n",
    "     - 오차를 수정하는 방향으로 그래프를 다시 그려줌  \n",
    "     - 선형함수를 잘못 찾았을 경우 수정이 가능\n",
    "     - 점진적으로 찾아가므로 계산량이 많아서 시간이 오래 걸림\n",
    "     - 학습율(learning rate)\n",
    "        - 너무 크게 설정하면 오차가 커짐(발산)\n",
    "        - 너무 작게 설정하면 국소지역점에 빠져서 최적의 해를 찾지 못함"
   ]
  },
  {
   "cell_type": "code",
   "execution_count": 19,
   "id": "f4936d00",
   "metadata": {
    "collapsed": true
   },
   "outputs": [
    {
     "name": "stdout",
     "output_type": "stream",
     "text": [
      "-- Epoch 1\n",
      "Norm: 1.28, NNZs: 1, Bias: 0.178851, T: 4, Avg. loss: 1720.650971\n",
      "Total training time: 0.00 seconds.\n",
      "-- Epoch 2\n",
      "Norm: 2.08, NNZs: 1, Bias: 0.295855, T: 8, Avg. loss: 1336.815353\n",
      "Total training time: 0.00 seconds.\n",
      "-- Epoch 3\n",
      "Norm: 2.71, NNZs: 1, Bias: 0.388995, T: 12, Avg. loss: 1105.440307\n",
      "Total training time: 0.00 seconds.\n",
      "-- Epoch 4\n",
      "Norm: 3.26, NNZs: 1, Bias: 0.468264, T: 16, Avg. loss: 935.917712\n",
      "Total training time: 0.00 seconds.\n",
      "-- Epoch 5\n",
      "Norm: 3.73, NNZs: 1, Bias: 0.537302, T: 20, Avg. loss: 799.037032\n",
      "Total training time: 0.00 seconds.\n",
      "-- Epoch 6\n",
      "Norm: 4.15, NNZs: 1, Bias: 0.598250, T: 24, Avg. loss: 688.970067\n",
      "Total training time: 0.00 seconds.\n",
      "-- Epoch 7\n",
      "Norm: 4.52, NNZs: 1, Bias: 0.652609, T: 28, Avg. loss: 599.074658\n",
      "Total training time: 0.00 seconds.\n",
      "-- Epoch 8\n",
      "Norm: 4.86, NNZs: 1, Bias: 0.701755, T: 32, Avg. loss: 522.803726\n",
      "Total training time: 0.00 seconds.\n",
      "-- Epoch 9\n",
      "Norm: 5.16, NNZs: 1, Bias: 0.746418, T: 36, Avg. loss: 458.535509\n",
      "Total training time: 0.00 seconds.\n",
      "-- Epoch 10\n",
      "Norm: 5.44, NNZs: 1, Bias: 0.786993, T: 40, Avg. loss: 404.158317\n",
      "Total training time: 0.00 seconds.\n",
      "-- Epoch 11\n",
      "Norm: 5.70, NNZs: 1, Bias: 0.824284, T: 44, Avg. loss: 357.000028\n",
      "Total training time: 0.00 seconds.\n",
      "-- Epoch 12\n",
      "Norm: 5.94, NNZs: 1, Bias: 0.858665, T: 48, Avg. loss: 316.363795\n",
      "Total training time: 0.00 seconds.\n",
      "-- Epoch 13\n",
      "Norm: 6.15, NNZs: 1, Bias: 0.890225, T: 52, Avg. loss: 281.322574\n",
      "Total training time: 0.00 seconds.\n",
      "-- Epoch 14\n",
      "Norm: 6.36, NNZs: 1, Bias: 0.919510, T: 56, Avg. loss: 250.531289\n",
      "Total training time: 0.00 seconds.\n",
      "-- Epoch 15\n",
      "Norm: 6.54, NNZs: 1, Bias: 0.946748, T: 60, Avg. loss: 223.630205\n",
      "Total training time: 0.00 seconds.\n",
      "-- Epoch 16\n",
      "Norm: 6.72, NNZs: 1, Bias: 0.971923, T: 64, Avg. loss: 200.145428\n",
      "Total training time: 0.00 seconds.\n",
      "-- Epoch 17\n",
      "Norm: 6.88, NNZs: 1, Bias: 0.995433, T: 68, Avg. loss: 179.321458\n",
      "Total training time: 0.00 seconds.\n",
      "-- Epoch 18\n",
      "Norm: 7.03, NNZs: 1, Bias: 1.017434, T: 72, Avg. loss: 160.952688\n",
      "Total training time: 0.00 seconds.\n",
      "-- Epoch 19\n",
      "Norm: 7.17, NNZs: 1, Bias: 1.037867, T: 76, Avg. loss: 144.774171\n",
      "Total training time: 0.00 seconds.\n",
      "-- Epoch 20\n",
      "Norm: 7.31, NNZs: 1, Bias: 1.057038, T: 80, Avg. loss: 130.331619\n",
      "Total training time: 0.00 seconds.\n",
      "-- Epoch 21\n",
      "Norm: 7.43, NNZs: 1, Bias: 1.075058, T: 84, Avg. loss: 117.499574\n",
      "Total training time: 0.00 seconds.\n",
      "-- Epoch 22\n",
      "Norm: 7.55, NNZs: 1, Bias: 1.091856, T: 88, Avg. loss: 106.120864\n",
      "Total training time: 0.00 seconds.\n",
      "-- Epoch 23\n",
      "Norm: 7.66, NNZs: 1, Bias: 1.107673, T: 92, Avg. loss: 95.909194\n",
      "Total training time: 0.00 seconds.\n",
      "-- Epoch 24\n",
      "Norm: 7.76, NNZs: 1, Bias: 1.122592, T: 96, Avg. loss: 86.784400\n",
      "Total training time: 0.00 seconds.\n",
      "-- Epoch 25\n",
      "Norm: 7.86, NNZs: 1, Bias: 1.136540, T: 100, Avg. loss: 78.649220\n",
      "Total training time: 0.00 seconds.\n",
      "-- Epoch 26\n",
      "Norm: 7.95, NNZs: 1, Bias: 1.149709, T: 104, Avg. loss: 71.316897\n",
      "Total training time: 0.00 seconds.\n",
      "-- Epoch 27\n",
      "Norm: 8.04, NNZs: 1, Bias: 1.162165, T: 108, Avg. loss: 64.734390\n",
      "Total training time: 0.00 seconds.\n",
      "-- Epoch 28\n",
      "Norm: 8.12, NNZs: 1, Bias: 1.173838, T: 112, Avg. loss: 58.839586\n",
      "Total training time: 0.00 seconds.\n",
      "-- Epoch 29\n",
      "Norm: 8.20, NNZs: 1, Bias: 1.184884, T: 116, Avg. loss: 53.507370\n",
      "Total training time: 0.00 seconds.\n",
      "-- Epoch 30\n",
      "Norm: 8.27, NNZs: 1, Bias: 1.195357, T: 120, Avg. loss: 48.701669\n",
      "Total training time: 0.00 seconds.\n",
      "-- Epoch 31\n",
      "Norm: 8.34, NNZs: 1, Bias: 1.205188, T: 124, Avg. loss: 44.381835\n",
      "Total training time: 0.00 seconds.\n",
      "-- Epoch 32\n",
      "Norm: 8.40, NNZs: 1, Bias: 1.214510, T: 128, Avg. loss: 40.462253\n",
      "Total training time: 0.00 seconds.\n",
      "-- Epoch 33\n",
      "Norm: 8.47, NNZs: 1, Bias: 1.223365, T: 132, Avg. loss: 36.917826\n",
      "Total training time: 0.00 seconds.\n",
      "-- Epoch 34\n",
      "Norm: 8.52, NNZs: 1, Bias: 1.231690, T: 136, Avg. loss: 33.721437\n",
      "Total training time: 0.00 seconds.\n",
      "-- Epoch 35\n",
      "Norm: 8.58, NNZs: 1, Bias: 1.239597, T: 140, Avg. loss: 30.813471\n",
      "Total training time: 0.00 seconds.\n",
      "-- Epoch 36\n",
      "Norm: 8.63, NNZs: 1, Bias: 1.247119, T: 144, Avg. loss: 28.176129\n",
      "Total training time: 0.00 seconds.\n",
      "-- Epoch 37\n",
      "Norm: 8.68, NNZs: 1, Bias: 1.254201, T: 148, Avg. loss: 25.791038\n",
      "Total training time: 0.00 seconds.\n",
      "-- Epoch 38\n",
      "Norm: 8.73, NNZs: 1, Bias: 1.260935, T: 152, Avg. loss: 23.616081\n",
      "Total training time: 0.00 seconds.\n",
      "-- Epoch 39\n",
      "Norm: 8.78, NNZs: 1, Bias: 1.267351, T: 156, Avg. loss: 21.638420\n",
      "Total training time: 0.00 seconds.\n",
      "-- Epoch 40\n",
      "Norm: 8.82, NNZs: 1, Bias: 1.273398, T: 160, Avg. loss: 19.845452\n",
      "Total training time: 0.00 seconds.\n",
      "-- Epoch 41\n",
      "Norm: 8.86, NNZs: 1, Bias: 1.279154, T: 164, Avg. loss: 18.207053\n",
      "Total training time: 0.00 seconds.\n",
      "-- Epoch 42\n",
      "Norm: 8.90, NNZs: 1, Bias: 1.284645, T: 168, Avg. loss: 16.713821\n",
      "Total training time: 0.00 seconds.\n",
      "-- Epoch 43\n",
      "Norm: 8.94, NNZs: 1, Bias: 1.289824, T: 172, Avg. loss: 15.357027\n",
      "Total training time: 0.00 seconds.\n",
      "-- Epoch 44\n",
      "Norm: 8.97, NNZs: 1, Bias: 1.294760, T: 176, Avg. loss: 14.114895\n",
      "Total training time: 0.00 seconds.\n",
      "-- Epoch 45\n",
      "Norm: 9.01, NNZs: 1, Bias: 1.299472, T: 180, Avg. loss: 12.980445\n",
      "Total training time: 0.00 seconds.\n",
      "-- Epoch 46\n",
      "Norm: 9.04, NNZs: 1, Bias: 1.303920, T: 184, Avg. loss: 11.947586\n",
      "Total training time: 0.00 seconds.\n",
      "-- Epoch 47\n",
      "Norm: 9.07, NNZs: 1, Bias: 1.308163, T: 188, Avg. loss: 11.000427\n",
      "Total training time: 0.00 seconds.\n",
      "-- Epoch 48\n",
      "Norm: 9.10, NNZs: 1, Bias: 1.312217, T: 192, Avg. loss: 10.133723\n",
      "Total training time: 0.00 seconds.\n",
      "-- Epoch 49\n",
      "Norm: 9.13, NNZs: 1, Bias: 1.316045, T: 196, Avg. loss: 9.343199\n",
      "Total training time: 0.00 seconds.\n",
      "-- Epoch 50\n",
      "Norm: 9.15, NNZs: 1, Bias: 1.319700, T: 200, Avg. loss: 8.617167\n",
      "Total training time: 0.00 seconds.\n",
      "-- Epoch 51\n",
      "Norm: 9.18, NNZs: 1, Bias: 1.323194, T: 204, Avg. loss: 7.951637\n",
      "Total training time: 0.00 seconds.\n",
      "-- Epoch 52\n",
      "Norm: 9.20, NNZs: 1, Bias: 1.326495, T: 208, Avg. loss: 7.343597\n",
      "Total training time: 0.00 seconds.\n",
      "-- Epoch 53\n",
      "Norm: 9.23, NNZs: 1, Bias: 1.329648, T: 212, Avg. loss: 6.784388\n",
      "Total training time: 0.00 seconds.\n",
      "-- Epoch 54\n",
      "Norm: 9.25, NNZs: 1, Bias: 1.332665, T: 216, Avg. loss: 6.270943\n",
      "Total training time: 0.00 seconds.\n",
      "-- Epoch 55\n",
      "Norm: 9.27, NNZs: 1, Bias: 1.335516, T: 220, Avg. loss: 5.801137\n",
      "Total training time: 0.00 seconds.\n",
      "-- Epoch 56\n",
      "Norm: 9.29, NNZs: 1, Bias: 1.338239, T: 224, Avg. loss: 5.368514\n",
      "Total training time: 0.00 seconds.\n",
      "-- Epoch 57\n",
      "Norm: 9.31, NNZs: 1, Bias: 1.340847, T: 228, Avg. loss: 4.970691\n",
      "Total training time: 0.00 seconds.\n",
      "-- Epoch 58\n",
      "Norm: 9.33, NNZs: 1, Bias: 1.343311, T: 232, Avg. loss: 4.606168\n",
      "Total training time: 0.00 seconds.\n",
      "-- Epoch 59\n",
      "Norm: 9.35, NNZs: 1, Bias: 1.345666, T: 236, Avg. loss: 4.270107\n",
      "Total training time: 0.00 seconds.\n",
      "-- Epoch 60\n",
      "Norm: 9.37, NNZs: 1, Bias: 1.347923, T: 240, Avg. loss: 3.960635\n",
      "Total training time: 0.00 seconds.\n",
      "-- Epoch 61\n",
      "Norm: 9.38, NNZs: 1, Bias: 1.350054, T: 244, Avg. loss: 3.676699\n",
      "Total training time: 0.00 seconds.\n",
      "-- Epoch 62\n",
      "Norm: 9.40, NNZs: 1, Bias: 1.352091, T: 248, Avg. loss: 3.414654\n",
      "Total training time: 0.00 seconds.\n",
      "-- Epoch 63\n",
      "Norm: 9.41, NNZs: 1, Bias: 1.354044, T: 252, Avg. loss: 3.173015\n",
      "Total training time: 0.00 seconds.\n",
      "-- Epoch 64\n",
      "Norm: 9.43, NNZs: 1, Bias: 1.355888, T: 256, Avg. loss: 2.951047\n",
      "Total training time: 0.00 seconds.\n",
      "-- Epoch 65\n",
      "Norm: 9.44, NNZs: 1, Bias: 1.357651, T: 260, Avg. loss: 2.745991\n",
      "Total training time: 0.00 seconds.\n",
      "-- Epoch 66\n",
      "Norm: 9.45, NNZs: 1, Bias: 1.359341, T: 264, Avg. loss: 2.556660\n",
      "Total training time: 0.00 seconds.\n",
      "-- Epoch 67\n",
      "Norm: 9.47, NNZs: 1, Bias: 1.360936, T: 268, Avg. loss: 2.382546\n",
      "Total training time: 0.00 seconds.\n",
      "-- Epoch 68\n",
      "Norm: 9.48, NNZs: 1, Bias: 1.362462, T: 272, Avg. loss: 2.221552\n",
      "Total training time: 0.00 seconds.\n",
      "-- Epoch 69\n",
      "Norm: 9.49, NNZs: 1, Bias: 1.363924, T: 276, Avg. loss: 2.072721\n",
      "Total training time: 0.00 seconds.\n",
      "-- Epoch 70\n",
      "Norm: 9.50, NNZs: 1, Bias: 1.365304, T: 280, Avg. loss: 1.935707\n",
      "Total training time: 0.00 seconds.\n",
      "-- Epoch 71\n",
      "Norm: 9.51, NNZs: 1, Bias: 1.366623, T: 284, Avg. loss: 1.808913\n",
      "Total training time: 0.00 seconds.\n",
      "-- Epoch 72\n",
      "Norm: 9.52, NNZs: 1, Bias: 1.367887, T: 288, Avg. loss: 1.691558\n",
      "Total training time: 0.00 seconds.\n",
      "-- Epoch 73\n",
      "Norm: 9.53, NNZs: 1, Bias: 1.369079, T: 292, Avg. loss: 1.583415\n",
      "Total training time: 0.00 seconds.\n",
      "-- Epoch 74\n",
      "Norm: 9.54, NNZs: 1, Bias: 1.370218, T: 296, Avg. loss: 1.483261\n",
      "Total training time: 0.00 seconds.\n",
      "-- Epoch 75\n",
      "Norm: 9.55, NNZs: 1, Bias: 1.371310, T: 300, Avg. loss: 1.390456\n",
      "Total training time: 0.00 seconds.\n",
      "-- Epoch 76\n",
      "Norm: 9.56, NNZs: 1, Bias: 1.372338, T: 304, Avg. loss: 1.304856\n",
      "Total training time: 0.00 seconds.\n",
      "-- Epoch 77\n",
      "Norm: 9.57, NNZs: 1, Bias: 1.373320, T: 308, Avg. loss: 1.225525\n",
      "Total training time: 0.00 seconds.\n",
      "-- Epoch 78\n",
      "Norm: 9.58, NNZs: 1, Bias: 1.374261, T: 312, Avg. loss: 1.151932\n",
      "Total training time: 0.00 seconds.\n",
      "-- Epoch 79\n",
      "Norm: 9.59, NNZs: 1, Bias: 1.375146, T: 316, Avg. loss: 1.083993\n",
      "Total training time: 0.00 seconds.\n",
      "-- Epoch 80\n",
      "Norm: 9.59, NNZs: 1, Bias: 1.375991, T: 320, Avg. loss: 1.020989\n",
      "Total training time: 0.00 seconds.\n",
      "-- Epoch 81\n",
      "Norm: 9.60, NNZs: 1, Bias: 1.376801, T: 324, Avg. loss: 0.962478\n",
      "Total training time: 0.00 seconds.\n",
      "-- Epoch 82\n",
      "Norm: 9.61, NNZs: 1, Bias: 1.377560, T: 328, Avg. loss: 0.908417\n",
      "Total training time: 0.00 seconds.\n",
      "-- Epoch 83\n",
      "Norm: 9.61, NNZs: 1, Bias: 1.378285, T: 332, Avg. loss: 0.858253\n",
      "Total training time: 0.00 seconds.\n",
      "-- Epoch 84\n",
      "Norm: 9.62, NNZs: 1, Bias: 1.378980, T: 336, Avg. loss: 0.811617\n",
      "Total training time: 0.00 seconds.\n",
      "-- Epoch 85\n",
      "Norm: 9.63, NNZs: 1, Bias: 1.379629, T: 340, Avg. loss: 0.768492\n",
      "Total training time: 0.00 seconds.\n",
      "-- Epoch 86\n",
      "Norm: 9.63, NNZs: 1, Bias: 1.380248, T: 344, Avg. loss: 0.728457\n",
      "Total training time: 0.00 seconds.\n",
      "-- Epoch 87\n",
      "Norm: 9.64, NNZs: 1, Bias: 1.380842, T: 348, Avg. loss: 0.691195\n",
      "Total training time: 0.00 seconds.\n",
      "-- Epoch 88\n",
      "Norm: 9.64, NNZs: 1, Bias: 1.381395, T: 352, Avg. loss: 0.656714\n",
      "Total training time: 0.00 seconds.\n",
      "-- Epoch 89\n",
      "Norm: 9.65, NNZs: 1, Bias: 1.381921, T: 356, Avg. loss: 0.624688\n",
      "Total training time: 0.00 seconds.\n",
      "-- Epoch 90\n",
      "Norm: 9.65, NNZs: 1, Bias: 1.382426, T: 360, Avg. loss: 0.594848\n",
      "Total training time: 0.00 seconds.\n",
      "-- Epoch 91\n",
      "Norm: 9.66, NNZs: 1, Bias: 1.382894, T: 364, Avg. loss: 0.567215\n",
      "Total training time: 0.00 seconds.\n",
      "-- Epoch 92\n",
      "Norm: 9.66, NNZs: 1, Bias: 1.383339, T: 368, Avg. loss: 0.541539\n",
      "Total training time: 0.00 seconds.\n",
      "-- Epoch 93\n",
      "Norm: 9.67, NNZs: 1, Bias: 1.383765, T: 372, Avg. loss: 0.517590\n",
      "Total training time: 0.00 seconds.\n",
      "-- Epoch 94\n",
      "Norm: 9.67, NNZs: 1, Bias: 1.384158, T: 376, Avg. loss: 0.495396\n",
      "Total training time: 0.00 seconds.\n",
      "-- Epoch 95\n",
      "Norm: 9.68, NNZs: 1, Bias: 1.384532, T: 380, Avg. loss: 0.474767\n",
      "Total training time: 0.00 seconds.\n",
      "-- Epoch 96\n",
      "Norm: 9.68, NNZs: 1, Bias: 1.384888, T: 384, Avg. loss: 0.455503\n",
      "Total training time: 0.00 seconds.\n",
      "-- Epoch 97\n",
      "Norm: 9.68, NNZs: 1, Bias: 1.385216, T: 388, Avg. loss: 0.437640\n",
      "Total training time: 0.00 seconds.\n",
      "-- Epoch 98\n",
      "Norm: 9.69, NNZs: 1, Bias: 1.385526, T: 392, Avg. loss: 0.421032\n",
      "Total training time: 0.00 seconds.\n",
      "-- Epoch 99\n",
      "Norm: 9.69, NNZs: 1, Bias: 1.385821, T: 396, Avg. loss: 0.405505\n",
      "Total training time: 0.00 seconds.\n",
      "-- Epoch 100\n",
      "Norm: 9.70, NNZs: 1, Bias: 1.386090, T: 400, Avg. loss: 0.391097\n",
      "Total training time: 0.00 seconds.\n",
      "-- Epoch 101\n",
      "Norm: 9.70, NNZs: 1, Bias: 1.386344, T: 404, Avg. loss: 0.377699\n",
      "Total training time: 0.00 seconds.\n",
      "-- Epoch 102\n",
      "Norm: 9.70, NNZs: 1, Bias: 1.386586, T: 408, Avg. loss: 0.365158\n",
      "Total training time: 0.00 seconds.\n",
      "-- Epoch 103\n",
      "Norm: 9.70, NNZs: 1, Bias: 1.386804, T: 412, Avg. loss: 0.353514\n",
      "Total training time: 0.00 seconds.\n",
      "-- Epoch 104\n",
      "Norm: 9.71, NNZs: 1, Bias: 1.387008, T: 416, Avg. loss: 0.342684\n",
      "Total training time: 0.00 seconds.\n",
      "-- Epoch 105\n",
      "Norm: 9.71, NNZs: 1, Bias: 1.387202, T: 420, Avg. loss: 0.332534\n",
      "Total training time: 0.00 seconds.\n",
      "-- Epoch 106\n",
      "Norm: 9.71, NNZs: 1, Bias: 1.387374, T: 424, Avg. loss: 0.323104\n",
      "Total training time: 0.00 seconds.\n",
      "-- Epoch 107\n",
      "Norm: 9.72, NNZs: 1, Bias: 1.387535, T: 428, Avg. loss: 0.314333\n",
      "Total training time: 0.00 seconds.\n",
      "-- Epoch 108\n",
      "Norm: 9.72, NNZs: 1, Bias: 1.387687, T: 432, Avg. loss: 0.306102\n",
      "Total training time: 0.00 seconds.\n",
      "-- Epoch 109\n",
      "Norm: 9.72, NNZs: 1, Bias: 1.387819, T: 436, Avg. loss: 0.298451\n",
      "Total training time: 0.00 seconds.\n",
      "-- Epoch 110\n",
      "Norm: 9.72, NNZs: 1, Bias: 1.387941, T: 440, Avg. loss: 0.291334\n",
      "Total training time: 0.00 seconds.\n",
      "-- Epoch 111\n",
      "Norm: 9.73, NNZs: 1, Bias: 1.388055, T: 444, Avg. loss: 0.284645\n",
      "Total training time: 0.00 seconds.\n",
      "-- Epoch 112\n",
      "Norm: 9.73, NNZs: 1, Bias: 1.388151, T: 448, Avg. loss: 0.278424\n",
      "Total training time: 0.00 seconds.\n",
      "-- Epoch 113\n",
      "Norm: 9.73, NNZs: 1, Bias: 1.388238, T: 452, Avg. loss: 0.272638\n",
      "Total training time: 0.00 seconds.\n",
      "-- Epoch 114\n",
      "Norm: 9.73, NNZs: 1, Bias: 1.388319, T: 456, Avg. loss: 0.267192\n",
      "Total training time: 0.00 seconds.\n",
      "-- Epoch 115\n",
      "Norm: 9.73, NNZs: 1, Bias: 1.388384, T: 460, Avg. loss: 0.262124\n",
      "Total training time: 0.00 seconds.\n",
      "-- Epoch 116\n",
      "Norm: 9.74, NNZs: 1, Bias: 1.388440, T: 464, Avg. loss: 0.257411\n",
      "Total training time: 0.00 seconds.\n",
      "-- Epoch 117\n",
      "Norm: 9.74, NNZs: 1, Bias: 1.388492, T: 468, Avg. loss: 0.252968\n",
      "Total training time: 0.00 seconds.\n",
      "-- Epoch 118\n",
      "Norm: 9.74, NNZs: 1, Bias: 1.388528, T: 472, Avg. loss: 0.248830\n",
      "Total training time: 0.00 seconds.\n",
      "-- Epoch 119\n",
      "Norm: 9.74, NNZs: 1, Bias: 1.388558, T: 476, Avg. loss: 0.244984\n",
      "Total training time: 0.00 seconds.\n",
      "-- Epoch 120\n",
      "Norm: 9.74, NNZs: 1, Bias: 1.388583, T: 480, Avg. loss: 0.241351\n",
      "Total training time: 0.00 seconds.\n",
      "-- Epoch 121\n",
      "Norm: 9.75, NNZs: 1, Bias: 1.388594, T: 484, Avg. loss: 0.237967\n",
      "Total training time: 0.00 seconds.\n",
      "-- Epoch 122\n",
      "Norm: 9.75, NNZs: 1, Bias: 1.388600, T: 488, Avg. loss: 0.234821\n",
      "Total training time: 0.00 seconds.\n",
      "-- Epoch 123\n",
      "Norm: 9.75, NNZs: 1, Bias: 1.388602, T: 492, Avg. loss: 0.231845\n",
      "Total training time: 0.00 seconds.\n",
      "-- Epoch 124\n",
      "Norm: 9.75, NNZs: 1, Bias: 1.388591, T: 496, Avg. loss: 0.229070\n",
      "Total training time: 0.00 seconds.\n",
      "-- Epoch 125\n",
      "Norm: 9.75, NNZs: 1, Bias: 1.388575, T: 500, Avg. loss: 0.226493\n",
      "Total training time: 0.00 seconds.\n",
      "-- Epoch 126\n",
      "Norm: 9.75, NNZs: 1, Bias: 1.388556, T: 504, Avg. loss: 0.224049\n",
      "Total training time: 0.00 seconds.\n",
      "-- Epoch 127\n",
      "Norm: 9.75, NNZs: 1, Bias: 1.388525, T: 508, Avg. loss: 0.221769\n",
      "Total training time: 0.00 seconds.\n",
      "-- Epoch 128\n",
      "Norm: 9.76, NNZs: 1, Bias: 1.388490, T: 512, Avg. loss: 0.219653\n",
      "Total training time: 0.00 seconds.\n",
      "-- Epoch 129\n",
      "Norm: 9.76, NNZs: 1, Bias: 1.388453, T: 516, Avg. loss: 0.217641\n",
      "Total training time: 0.00 seconds.\n",
      "-- Epoch 130\n",
      "Norm: 9.76, NNZs: 1, Bias: 1.388404, T: 520, Avg. loss: 0.215764\n",
      "Total training time: 0.00 seconds.\n",
      "-- Epoch 131\n",
      "Norm: 9.76, NNZs: 1, Bias: 1.388353, T: 524, Avg. loss: 0.214022\n",
      "Total training time: 0.00 seconds.\n",
      "-- Epoch 132\n",
      "Norm: 9.76, NNZs: 1, Bias: 1.388299, T: 528, Avg. loss: 0.212362\n",
      "Total training time: 0.00 seconds.\n",
      "-- Epoch 133\n",
      "Norm: 9.76, NNZs: 1, Bias: 1.388235, T: 532, Avg. loss: 0.210812\n",
      "Total training time: 0.00 seconds.\n",
      "-- Epoch 134\n",
      "Norm: 9.76, NNZs: 1, Bias: 1.388168, T: 536, Avg. loss: 0.209375\n",
      "Total training time: 0.00 seconds.\n",
      "-- Epoch 135\n",
      "Norm: 9.76, NNZs: 1, Bias: 1.388099, T: 540, Avg. loss: 0.208002\n",
      "Total training time: 0.00 seconds.\n",
      "-- Epoch 136\n",
      "Norm: 9.77, NNZs: 1, Bias: 1.388021, T: 544, Avg. loss: 0.206718\n",
      "Total training time: 0.00 seconds.\n",
      "-- Epoch 137\n",
      "Norm: 9.77, NNZs: 1, Bias: 1.387941, T: 548, Avg. loss: 0.205530\n",
      "Total training time: 0.00 seconds.\n",
      "-- Epoch 138\n",
      "Norm: 9.77, NNZs: 1, Bias: 1.387860, T: 552, Avg. loss: 0.204391\n",
      "Total training time: 0.00 seconds.\n",
      "-- Epoch 139\n",
      "Norm: 9.77, NNZs: 1, Bias: 1.387769, T: 556, Avg. loss: 0.203325\n",
      "Total training time: 0.00 seconds.\n",
      "-- Epoch 140\n",
      "Norm: 9.77, NNZs: 1, Bias: 1.387677, T: 560, Avg. loss: 0.202340\n",
      "Total training time: 0.00 seconds.\n",
      "-- Epoch 141\n",
      "Norm: 9.77, NNZs: 1, Bias: 1.387584, T: 564, Avg. loss: 0.201392\n",
      "Total training time: 0.00 seconds.\n",
      "-- Epoch 142\n",
      "Norm: 9.77, NNZs: 1, Bias: 1.387482, T: 568, Avg. loss: 0.200504\n",
      "Total training time: 0.00 seconds.\n",
      "-- Epoch 143\n",
      "Norm: 9.77, NNZs: 1, Bias: 1.387379, T: 572, Avg. loss: 0.199685\n",
      "Total training time: 0.00 seconds.\n",
      "-- Epoch 144\n",
      "Norm: 9.77, NNZs: 1, Bias: 1.387276, T: 576, Avg. loss: 0.198893\n",
      "Total training time: 0.00 seconds.\n",
      "Convergence after 144 epochs took 0.00 seconds\n"
     ]
    },
    {
     "data": {
      "text/html": [
       "<style>#sk-container-id-2 {color: black;background-color: white;}#sk-container-id-2 pre{padding: 0;}#sk-container-id-2 div.sk-toggleable {background-color: white;}#sk-container-id-2 label.sk-toggleable__label {cursor: pointer;display: block;width: 100%;margin-bottom: 0;padding: 0.3em;box-sizing: border-box;text-align: center;}#sk-container-id-2 label.sk-toggleable__label-arrow:before {content: \"▸\";float: left;margin-right: 0.25em;color: #696969;}#sk-container-id-2 label.sk-toggleable__label-arrow:hover:before {color: black;}#sk-container-id-2 div.sk-estimator:hover label.sk-toggleable__label-arrow:before {color: black;}#sk-container-id-2 div.sk-toggleable__content {max-height: 0;max-width: 0;overflow: hidden;text-align: left;background-color: #f0f8ff;}#sk-container-id-2 div.sk-toggleable__content pre {margin: 0.2em;color: black;border-radius: 0.25em;background-color: #f0f8ff;}#sk-container-id-2 input.sk-toggleable__control:checked~div.sk-toggleable__content {max-height: 200px;max-width: 100%;overflow: auto;}#sk-container-id-2 input.sk-toggleable__control:checked~label.sk-toggleable__label-arrow:before {content: \"▾\";}#sk-container-id-2 div.sk-estimator input.sk-toggleable__control:checked~label.sk-toggleable__label {background-color: #d4ebff;}#sk-container-id-2 div.sk-label input.sk-toggleable__control:checked~label.sk-toggleable__label {background-color: #d4ebff;}#sk-container-id-2 input.sk-hidden--visually {border: 0;clip: rect(1px 1px 1px 1px);clip: rect(1px, 1px, 1px, 1px);height: 1px;margin: -1px;overflow: hidden;padding: 0;position: absolute;width: 1px;}#sk-container-id-2 div.sk-estimator {font-family: monospace;background-color: #f0f8ff;border: 1px dotted black;border-radius: 0.25em;box-sizing: border-box;margin-bottom: 0.5em;}#sk-container-id-2 div.sk-estimator:hover {background-color: #d4ebff;}#sk-container-id-2 div.sk-parallel-item::after {content: \"\";width: 100%;border-bottom: 1px solid gray;flex-grow: 1;}#sk-container-id-2 div.sk-label:hover label.sk-toggleable__label {background-color: #d4ebff;}#sk-container-id-2 div.sk-serial::before {content: \"\";position: absolute;border-left: 1px solid gray;box-sizing: border-box;top: 0;bottom: 0;left: 50%;z-index: 0;}#sk-container-id-2 div.sk-serial {display: flex;flex-direction: column;align-items: center;background-color: white;padding-right: 0.2em;padding-left: 0.2em;position: relative;}#sk-container-id-2 div.sk-item {position: relative;z-index: 1;}#sk-container-id-2 div.sk-parallel {display: flex;align-items: stretch;justify-content: center;background-color: white;position: relative;}#sk-container-id-2 div.sk-item::before, #sk-container-id-2 div.sk-parallel-item::before {content: \"\";position: absolute;border-left: 1px solid gray;box-sizing: border-box;top: 0;bottom: 0;left: 50%;z-index: -1;}#sk-container-id-2 div.sk-parallel-item {display: flex;flex-direction: column;z-index: 1;position: relative;background-color: white;}#sk-container-id-2 div.sk-parallel-item:first-child::after {align-self: flex-end;width: 50%;}#sk-container-id-2 div.sk-parallel-item:last-child::after {align-self: flex-start;width: 50%;}#sk-container-id-2 div.sk-parallel-item:only-child::after {width: 0;}#sk-container-id-2 div.sk-dashed-wrapped {border: 1px dashed gray;margin: 0 0.4em 0.5em 0.4em;box-sizing: border-box;padding-bottom: 0.4em;background-color: white;}#sk-container-id-2 div.sk-label label {font-family: monospace;font-weight: bold;display: inline-block;line-height: 1.2em;}#sk-container-id-2 div.sk-label-container {text-align: center;}#sk-container-id-2 div.sk-container {/* jupyter's `normalize.less` sets `[hidden] { display: none; }` but bootstrap.min.css set `[hidden] { display: none !important; }` so we also need the `!important` here to be able to override the default hidden behavior on the sphinx rendered scikit-learn.org. See: https://github.com/scikit-learn/scikit-learn/issues/21755 */display: inline-block !important;position: relative;}#sk-container-id-2 div.sk-text-repr-fallback {display: none;}</style><div id=\"sk-container-id-2\" class=\"sk-top-container\"><div class=\"sk-text-repr-fallback\"><pre>SGDRegressor(eta0=0.001, max_iter=5000, verbose=1)</pre><b>In a Jupyter environment, please rerun this cell to show the HTML representation or trust the notebook. <br />On GitHub, the HTML representation is unable to render, please try loading this page with nbviewer.org.</b></div><div class=\"sk-container\" hidden><div class=\"sk-item\"><div class=\"sk-estimator sk-toggleable\"><input class=\"sk-toggleable__control sk-hidden--visually\" id=\"sk-estimator-id-2\" type=\"checkbox\" checked><label for=\"sk-estimator-id-2\" class=\"sk-toggleable__label sk-toggleable__label-arrow\">SGDRegressor</label><div class=\"sk-toggleable__content\"><pre>SGDRegressor(eta0=0.001, max_iter=5000, verbose=1)</pre></div></div></div></div></div>"
      ],
      "text/plain": [
       "SGDRegressor(eta0=0.001, max_iter=5000, verbose=1)"
      ]
     },
     "execution_count": 19,
     "metadata": {},
     "output_type": "execute_result"
    }
   ],
   "source": [
    "from sklearn.linear_model import SGDRegressor\n",
    "\n",
    "# 모델 생성 밒 하이퍼파리미터 설정\n",
    "sgd = SGDRegressor(max_iter=5000, #가중치 업데이트 반복횟수\n",
    "                  eta0=0.001,    # 학습율(learning rate)\n",
    "                  verbose=1)\n",
    "# 학습\n",
    "sgd.fit(df[['시간']],df['성적'])"
   ]
  },
  {
   "cell_type": "code",
   "execution_count": 22,
   "id": "dcd3a841",
   "metadata": {},
   "outputs": [
    {
     "name": "stderr",
     "output_type": "stream",
     "text": [
      "C:\\Users\\gjaischool1\\anaconda3\\lib\\site-packages\\sklearn\\base.py:420: UserWarning: X does not have valid feature names, but SGDRegressor was fitted with feature names\n",
      "  warnings.warn(\n"
     ]
    },
    {
     "data": {
      "text/plain": [
       "array([147.96744734])"
      ]
     },
     "execution_count": 22,
     "metadata": {},
     "output_type": "execute_result"
    }
   ],
   "source": [
    "# 예측\n",
    "sgd.predict([[15]])"
   ]
  },
  {
   "cell_type": "code",
   "execution_count": 23,
   "id": "e8b14b19",
   "metadata": {},
   "outputs": [
    {
     "name": "stdout",
     "output_type": "stream",
     "text": [
      "[9.77201143]\n",
      "[1.38727586]\n"
     ]
    }
   ],
   "source": [
    "# 가중치(w), 편향(b) 확인하기\n",
    "print(sgd.coef_)\n",
    "print(sgd.intercept_)"
   ]
  },
  {
   "cell_type": "code",
   "execution_count": 24,
   "id": "94f89b28",
   "metadata": {},
   "outputs": [
    {
     "data": {
      "text/plain": [
       "0.9994556890657181"
      ]
     },
     "execution_count": 24,
     "metadata": {},
     "output_type": "execute_result"
    }
   ],
   "source": [
    "sgd.score(df[['시간']],df['성적'])"
   ]
  },
  {
   "cell_type": "code",
   "execution_count": null,
   "id": "6567bdf8",
   "metadata": {},
   "outputs": [],
   "source": []
  }
 ],
 "metadata": {
  "kernelspec": {
   "display_name": "Python 3 (ipykernel)",
   "language": "python",
   "name": "python3"
  },
  "language_info": {
   "codemirror_mode": {
    "name": "ipython",
    "version": 3
   },
   "file_extension": ".py",
   "mimetype": "text/x-python",
   "name": "python",
   "nbconvert_exporter": "python",
   "pygments_lexer": "ipython3",
   "version": "3.10.9"
  }
 },
 "nbformat": 4,
 "nbformat_minor": 5
}
